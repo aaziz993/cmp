{
 "cells": [
  {
   "cell_type": "code",
   "metadata": {
    "collapsed": true,
    "ExecuteTime": {
     "end_time": "2024-11-08T11:48:02.886384Z",
     "start_time": "2024-11-08T11:47:28.284497Z"
    }
   },
   "source": [
    "// Ensures that the latest available library versions are used\n",
    "%useLatestDescriptors\n",
    "\n",
    "%trackExecution\n",
    "\n",
    "// Imports the Kotlin DataFrame library\n",
    "%use dataframe\n",
    "\n",
    "// Imports the Kotlin Kandy library\n",
    "%use kandy\n",
    "\n",
    "%use ktor-client\n",
    "\n",
    "// Creates a DataFrame by importing data from the \"netflix_titles.csv\" file.\n",
    "val rawDf = DataFrame.read(http.get(\"https://raw.githubusercontent.com/LearnWebCode/json-example/refs/heads/master/pet-of-the-day.json\").deserializeJson())\n",
    "\n",
    "// Displays the raw DataFrame data\n",
    "rawDf"
   ],
   "outputs": [
    {
     "name": "stdout",
     "output_type": "stream",
     "text": [
      "Executing:\n",
      "@file:DependsOn(\"org.jetbrains.kotlinx:dataframe:0.14.1\")\n",
      "\n",
      "Executing:\n",
      "@file:Repository(\"https://packages.jetbrains.team/maven/p/kds/kotlin-ds-maven\")\n",
      "@file:DependsOn(\"org.jetbrains.kotlinx:kandy-lets-plot:0.7.1\")\n",
      "@file:DependsOn(\"org.jetbrains.kotlinx:kotlin-statistics-jvm:0.3.1\")\n",
      "\n",
      "Executing:\n",
      "@file:Repository(\"https://packages.jetbrains.team/maven/p/kds/kotlin-ds-maven\")\n",
      "@file:DependsOn(\"org.jetbrains.kotlinx:kotlin-jupyter-ktor-client:0.2.0-dev-29\")\n",
      "\n",
      "Executing:\n",
      "// Ensures that the latest available library versions are used\n",
      "\n",
      "\n",
      "\n",
      "\n",
      "// Imports the Kotlin DataFrame library\n",
      "\n",
      "\n",
      "// Imports the Kotlin Kandy library\n",
      "\n",
      "\n",
      "\n",
      "\n",
      "// Creates a DataFrame by importing data from the \"netflix_titles.csv\" file.\n",
      "val rawDf = DataFrame.read(http.get(\"https://raw.githubusercontent.com/LearnWebCode/json-example/refs/heads/master/pet-of-the-day.json\").deserializeJson())\n",
      "\n",
      "// Displays the raw DataFrame data\n",
      "rawDf\n",
      "\n"
     ]
    },
    {
     "ename": "org.jetbrains.kotlinx.jupyter.exceptions.ReplCompilerException",
     "evalue": "at Cell In[3], line 15, column 23: None of the following functions can be called with the arguments supplied: \npublic fun DataFrame.Companion.read(file: File, header: List<String> = ...): AnyFrame /* = DataFrame<*> */ defined in org.jetbrains.kotlinx.dataframe.io\ninternal fun DataFrame.Companion.read(file: File, format: SupportedDataFrameFormat? = ..., header: List<String> = ..., formats: List<SupportedDataFrameFormat> = ...): ReadAnyFrame defined in org.jetbrains.kotlinx.dataframe.io\ninternal fun DataFrame.Companion.read(stream: InputStream, format: SupportedDataFrameFormat? = ..., header: List<String> = ..., formats: List<SupportedDataFrameFormat> = ...): ReadAnyFrame defined in org.jetbrains.kotlinx.dataframe.io\npublic fun DataFrame.Companion.read(url: URL, header: List<String> = ...): AnyFrame /* = DataFrame<*> */ defined in org.jetbrains.kotlinx.dataframe.io\npublic fun DataFrame.Companion.read(path: String, header: List<String> = ...): AnyFrame /* = DataFrame<*> */ defined in org.jetbrains.kotlinx.dataframe.io",
     "output_type": "error",
     "traceback": [
      "org.jetbrains.kotlinx.jupyter.exceptions.ReplCompilerException: at Cell In[3], line 15, column 23: None of the following functions can be called with the arguments supplied: ",
      "public fun DataFrame.Companion.read(file: File, header: List<String> = ...): AnyFrame /* = DataFrame<*> */ defined in org.jetbrains.kotlinx.dataframe.io",
      "internal fun DataFrame.Companion.read(file: File, format: SupportedDataFrameFormat? = ..., header: List<String> = ..., formats: List<SupportedDataFrameFormat> = ...): ReadAnyFrame defined in org.jetbrains.kotlinx.dataframe.io",
      "internal fun DataFrame.Companion.read(stream: InputStream, format: SupportedDataFrameFormat? = ..., header: List<String> = ..., formats: List<SupportedDataFrameFormat> = ...): ReadAnyFrame defined in org.jetbrains.kotlinx.dataframe.io",
      "public fun DataFrame.Companion.read(url: URL, header: List<String> = ...): AnyFrame /* = DataFrame<*> */ defined in org.jetbrains.kotlinx.dataframe.io",
      "public fun DataFrame.Companion.read(path: String, header: List<String> = ...): AnyFrame /* = DataFrame<*> */ defined in org.jetbrains.kotlinx.dataframe.io",
      "\tat org.jetbrains.kotlinx.jupyter.repl.impl.JupyterCompilerImpl.compileSync(JupyterCompilerImpl.kt:208)",
      "\tat org.jetbrains.kotlinx.jupyter.repl.impl.InternalEvaluatorImpl.eval(InternalEvaluatorImpl.kt:126)",
      "\tat org.jetbrains.kotlinx.jupyter.repl.impl.CellExecutorImpl$execute$1$result$1.invoke(CellExecutorImpl.kt:80)",
      "\tat org.jetbrains.kotlinx.jupyter.repl.impl.CellExecutorImpl$execute$1$result$1.invoke(CellExecutorImpl.kt:78)",
      "\tat org.jetbrains.kotlinx.jupyter.repl.impl.ReplForJupyterImpl.withHost(ReplForJupyterImpl.kt:742)",
      "\tat org.jetbrains.kotlinx.jupyter.repl.impl.CellExecutorImpl.execute-L4Nmkdk(CellExecutorImpl.kt:78)",
      "\tat org.jetbrains.kotlinx.jupyter.repl.execution.CellExecutor$DefaultImpls.execute-L4Nmkdk$default(CellExecutor.kt:13)",
      "\tat org.jetbrains.kotlinx.jupyter.repl.impl.ReplForJupyterImpl.evaluateUserCode-wNURfNM(ReplForJupyterImpl.kt:565)",
      "\tat org.jetbrains.kotlinx.jupyter.repl.impl.ReplForJupyterImpl.evalExImpl(ReplForJupyterImpl.kt:423)",
      "\tat org.jetbrains.kotlinx.jupyter.repl.impl.ReplForJupyterImpl.access$evalExImpl(ReplForJupyterImpl.kt:139)",
      "\tat org.jetbrains.kotlinx.jupyter.repl.impl.ReplForJupyterImpl$evalEx$1.invoke(ReplForJupyterImpl.kt:416)",
      "\tat org.jetbrains.kotlinx.jupyter.repl.impl.ReplForJupyterImpl$evalEx$1.invoke(ReplForJupyterImpl.kt:415)",
      "\tat org.jetbrains.kotlinx.jupyter.repl.impl.ReplForJupyterImpl.withEvalContext(ReplForJupyterImpl.kt:396)",
      "\tat org.jetbrains.kotlinx.jupyter.repl.impl.ReplForJupyterImpl.evalEx(ReplForJupyterImpl.kt:415)",
      "\tat org.jetbrains.kotlinx.jupyter.messaging.IdeCompatibleMessageRequestProcessor$processExecuteRequest$1$response$1$1.invoke(IdeCompatibleMessageRequestProcessor.kt:170)",
      "\tat org.jetbrains.kotlinx.jupyter.messaging.IdeCompatibleMessageRequestProcessor$processExecuteRequest$1$response$1$1.invoke(IdeCompatibleMessageRequestProcessor.kt:169)",
      "\tat org.jetbrains.kotlinx.jupyter.streams.BlockingSubstitutionEngine.withDataSubstitution(SubstitutionEngine.kt:70)",
      "\tat org.jetbrains.kotlinx.jupyter.streams.StreamSubstitutionManager.withSubstitutedStreams(StreamSubstitutionManager.kt:118)",
      "\tat org.jetbrains.kotlinx.jupyter.messaging.IdeCompatibleMessageRequestProcessor.withForkedIn(IdeCompatibleMessageRequestProcessor.kt:342)",
      "\tat org.jetbrains.kotlinx.jupyter.messaging.IdeCompatibleMessageRequestProcessor.access$withForkedIn(IdeCompatibleMessageRequestProcessor.kt:66)",
      "\tat org.jetbrains.kotlinx.jupyter.messaging.IdeCompatibleMessageRequestProcessor$evalWithIO$1$1.invoke(IdeCompatibleMessageRequestProcessor.kt:356)",
      "\tat org.jetbrains.kotlinx.jupyter.streams.BlockingSubstitutionEngine.withDataSubstitution(SubstitutionEngine.kt:70)",
      "\tat org.jetbrains.kotlinx.jupyter.streams.StreamSubstitutionManager.withSubstitutedStreams(StreamSubstitutionManager.kt:118)",
      "\tat org.jetbrains.kotlinx.jupyter.messaging.IdeCompatibleMessageRequestProcessor.withForkedErr(IdeCompatibleMessageRequestProcessor.kt:331)",
      "\tat org.jetbrains.kotlinx.jupyter.messaging.IdeCompatibleMessageRequestProcessor.access$withForkedErr(IdeCompatibleMessageRequestProcessor.kt:66)",
      "\tat org.jetbrains.kotlinx.jupyter.messaging.IdeCompatibleMessageRequestProcessor$evalWithIO$1.invoke(IdeCompatibleMessageRequestProcessor.kt:355)",
      "\tat org.jetbrains.kotlinx.jupyter.streams.BlockingSubstitutionEngine.withDataSubstitution(SubstitutionEngine.kt:70)",
      "\tat org.jetbrains.kotlinx.jupyter.streams.StreamSubstitutionManager.withSubstitutedStreams(StreamSubstitutionManager.kt:118)",
      "\tat org.jetbrains.kotlinx.jupyter.messaging.IdeCompatibleMessageRequestProcessor.withForkedOut(IdeCompatibleMessageRequestProcessor.kt:323)",
      "\tat org.jetbrains.kotlinx.jupyter.messaging.IdeCompatibleMessageRequestProcessor.evalWithIO(IdeCompatibleMessageRequestProcessor.kt:354)",
      "\tat org.jetbrains.kotlinx.jupyter.messaging.IdeCompatibleMessageRequestProcessor$processExecuteRequest$1$response$1.invoke(IdeCompatibleMessageRequestProcessor.kt:169)",
      "\tat org.jetbrains.kotlinx.jupyter.messaging.IdeCompatibleMessageRequestProcessor$processExecuteRequest$1$response$1.invoke(IdeCompatibleMessageRequestProcessor.kt:168)",
      "\tat org.jetbrains.kotlinx.jupyter.execution.JupyterExecutorImpl$Task.execute(JupyterExecutorImpl.kt:41)",
      "\tat org.jetbrains.kotlinx.jupyter.execution.JupyterExecutorImpl$executorThread$1.invoke(JupyterExecutorImpl.kt:81)",
      "\tat org.jetbrains.kotlinx.jupyter.execution.JupyterExecutorImpl$executorThread$1.invoke(JupyterExecutorImpl.kt:79)",
      "\tat kotlin.concurrent.ThreadsKt$thread$thread$1.run(Thread.kt:30)",
      ""
     ]
    }
   ],
   "execution_count": 3
  }
 ],
 "metadata": {
  "kernelspec": {
   "display_name": "Kotlin",
   "language": "kotlin",
   "name": "kotlin"
  },
  "language_info": {
   "name": "kotlin",
   "version": "1.9.23",
   "mimetype": "text/x-kotlin",
   "file_extension": ".kt",
   "pygments_lexer": "kotlin",
   "codemirror_mode": "text/x-kotlin",
   "nbconvert_exporter": ""
  }
 },
 "nbformat": 4,
 "nbformat_minor": 0
}
